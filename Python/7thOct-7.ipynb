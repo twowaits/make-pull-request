{
 "cells": [
  {
   "cell_type": "code",
   "execution_count": 1,
   "metadata": {},
   "outputs": [
    {
     "name": "stdout",
     "output_type": "stream",
     "text": [
      "Enter a number of 10 digits or smaller:5423786\n",
      "54 lakh 23 thousand 7 hundred 8 tens and 6\n"
     ]
    }
   ],
   "source": [
    "#number to words\n",
    "\n",
    "def num_to_words():\n",
    "    lst=[]\n",
    "    \n",
    "    num = input(\"Enter a number of 10 digits or smaller:\")\n",
    "    \n",
    "    if num.isdigit():\n",
    "     #checking if the entered string is a number or not\n",
    "        \n",
    "        for i in num:\n",
    "            lst.append(i)\n",
    "        \n",
    "        if len(num)==1:\n",
    "            print(lst[0])\n",
    "        \n",
    "        elif len(num)==2:\n",
    "            print(lst[0],'tens','and',lst[0])\n",
    "        \n",
    "        elif len(num)==3:\n",
    "            print(lst[0],'hundred',lst[1],'tens','and',lst[2])\n",
    "        \n",
    "        elif len(num)==4:\n",
    "            print(lst[0],'thousand',lst[1],'hundred',lst[2],'tens','and',lst[3])\n",
    "        \n",
    "        elif len(num)==5:\n",
    "            s=lst[0]+lst[1]\n",
    "            print(s,'thousand',lst[2],'hundred',lst[3],'tens','and',lst[4])\n",
    "        \n",
    "        elif len(num)==6:\n",
    "            s=lst[1]+lst[2]\n",
    "            print(lst[0],'lakh',s,'thousand',lst[3],'hundred',lst[4],'tens','and',lst[5])\n",
    "        \n",
    "        elif len(num)==7:\n",
    "            s=lst[0]+lst[1]\n",
    "            t=lst[2]+lst[3]\n",
    "            print(s,'lakh',t,'thousand',lst[4],'hundred',lst[5],'tens','and',lst[6])\n",
    "        \n",
    "        elif len(num)==8:\n",
    "            s=lst[1]+lst[2]\n",
    "            t=lst[3]+lst[4]\n",
    "            print(lst[0],'crore',s,'lakh',t,'thousand',lst[5],'hundred',lst[6],'tens','and',lst[7])\n",
    "        \n",
    "        elif len(num)==9:\n",
    "            s=lst[0]+lst[1]\n",
    "            t=lst[2]+lst[3]\n",
    "            l=lst[4]+lst[5]\n",
    "            print(s,'crore',t,'lakh',l,'thousand',lst[6],'hundred',lst[7],'tens','and',lst[8])\n",
    "        \n",
    "        elif len(num)==10:\n",
    "            s=lst[0]+lst[1]+lst[2]\n",
    "            t=lst[3]+lst[4]\n",
    "            l=lst[5]+lst[6]\n",
    "            print(s,'crore',t,'lakh',l,'thousand',lst[7],'hundred',lst[8],'tens','and',lst[9])\n",
    "        \n",
    "        else:\n",
    "            print('Please enter a number which is less than 10 digits')\n",
    "    \n",
    "    \n",
    "    else:\n",
    "        print('Please enter a valid number')\n",
    "        \n",
    "\n",
    "num_to_words()"
   ]
  },
  {
   "cell_type": "code",
   "execution_count": null,
   "metadata": {},
   "outputs": [],
   "source": []
  }
 ],
 "metadata": {
  "kernelspec": {
   "display_name": "Python 3",
   "language": "python",
   "name": "python3"
  },
  "language_info": {
   "codemirror_mode": {
    "name": "ipython",
    "version": 3
   },
   "file_extension": ".py",
   "mimetype": "text/x-python",
   "name": "python",
   "nbconvert_exporter": "python",
   "pygments_lexer": "ipython3",
   "version": "3.7.6"
  }
 },
 "nbformat": 4,
 "nbformat_minor": 4
}
